{
 "cells": [
  {
   "cell_type": "code",
   "execution_count": 1,
   "metadata": {},
   "outputs": [],
   "source": [
    "import os\n",
    "import shutil"
   ]
  },
  {
   "cell_type": "code",
   "execution_count": 2,
   "metadata": {},
   "outputs": [],
   "source": [
    "path_to_adni = '/home/yadnesh/Desktop/AD_X/ADNI'\n",
    "path_to_correct = '/home/yadnesh/Desktop/AD_X/corrected'"
   ]
  },
  {
   "cell_type": "code",
   "execution_count": 21,
   "metadata": {},
   "outputs": [],
   "source": [
    "def get_modalities(sub_id):\n",
    "    modalities = os.listdir(os.path.join(path_to_adni,sub_id))\n",
    "    return modalities\n",
    "\n",
    "def get_dates(sub_id, modality):\n",
    "    dates = os.listdir(os.path.join(path_to_adni, sub_id, modality))\n",
    "    return dates\n",
    "\n",
    "def make_directory(sub_id, modality):\n",
    "    if os.path.isdir(os.path.join(path_to_correct,modality)):\n",
    "        pass\n",
    "    else:\n",
    "        os.makedirs(os.path.join(path_to_correct,modality))\n",
    "        \n",
    "def get_full_folder_name(name_contains,folder_name_list):\n",
    "    for i in folder_name_list:\n",
    "        if name_contains in i:\n",
    "            return i        \n",
    "    return \"\""
   ]
  },
  {
   "cell_type": "code",
   "execution_count": 22,
   "metadata": {},
   "outputs": [],
   "source": [
    "# We are reorganising the directories pre subject per visit\n",
    "# Hence the assumption is on each date there will be two or three modalities directories\n",
    "# depending on whether or not field mapping is present.\n",
    "# if that is not the case it will be caught in dry run, and we can check manually why that happened\n",
    "# it can be because of 'mprage repeat' kind of folders else because some modality is not present.\n",
    "# Also an IMPORTANT ASSUMPTION is that the date folder name has format yyyy-mm-dd_hh_min_sec\n",
    "# if this naming format changes the script will fail.\n",
    "# or even if the dates of the folder names inside the modalities do not match\n",
    "# if everything looks ok after dry run, run the actual function\n",
    "# else cut paste manually for the erring subject ids first, and then run the actual function\n",
    "\n",
    "def dry_run(path_to_adni, path_to_correct):\n",
    "    os.chdir(path_to_adni)\n",
    "    all_subject_id = os.listdir('.')\n",
    "    \n",
    "    for subject_id in all_subject_id:\n",
    "        modalities = get_modalities(subject_id)\n",
    "        all_dates = []\n",
    "        \n",
    "        for modality in modalities:\n",
    "            all_dates += get_dates(subject_id, modality)\n",
    "            \n",
    "        unique_dates = list(set([i.split('_')[0] for i in all_dates]))\n",
    "        unique_dates.sort()\n",
    "        visit = 0\n",
    "        \n",
    "        for date in unique_dates:\n",
    "            num_folders_moved = 0\n",
    "            visit += 1\n",
    "            dir_name = str(subject_id) + \"_visit_\" + str(visit)\n",
    "            if not os.path.isdir(os.path.join(path_to_correct, dir_name)):\n",
    "                #os.makedirs(os.path.join(path_to_correct, dir_name))\n",
    "                pass\n",
    "                \n",
    "            for modality in modalities:\n",
    "                modality_dates = get_dates(subject_id, modality)\n",
    "                modality_dates_date = [i.split('_')[0] for i in modality_dates]\n",
    "                \n",
    "                if date in modality_dates_date:\n",
    "                    full_folder_name = get_full_folder_name(date, modality_dates)\n",
    "                    #os.makedirs(os.path.join(path_to_correct, dir_name, modality))\n",
    "                    pass\n",
    "                    \n",
    "                    folder_to_move = os.path.join(path_to_adni, subject_id, modality, full_folder_name)\n",
    "                    move_to_folder = os.path.join(path_to_correct, dir_name, modality)\n",
    "\n",
    "                    #shutil.move(folder_to_move, move_to_folder)\n",
    "                    num_folders_moved += 1\n",
    "                \n",
    "            if num_folders_moved != 2 and num_folders_moved != 3:\n",
    "                print(\"subject id {} has {} modalities on date {}\".format(\n",
    "                subject_id, num_folders_moved, date))"
   ]
  },
  {
   "cell_type": "code",
   "execution_count": 23,
   "metadata": {},
   "outputs": [],
   "source": [
    "dry_run(path_to_adni, path_to_correct)"
   ]
  },
  {
   "cell_type": "code",
   "execution_count": 24,
   "metadata": {},
   "outputs": [],
   "source": [
    "def correct_directory_structure(path_to_adni, path_to_correct):\n",
    "    os.chdir(path_to_adni)\n",
    "    all_subject_id = os.listdir('.')\n",
    "    \n",
    "    for subject_id in all_subject_id:\n",
    "        \n",
    "        modalities = get_modalities(subject_id)\n",
    "        all_dates = []\n",
    "        \n",
    "        for modality in modalities:\n",
    "            all_dates += get_dates(subject_id, modality)\n",
    "            \n",
    "        unique_dates = list(set([i.split('_')[0] for i in all_dates]))\n",
    "        unique_dates.sort()\n",
    "        visit = 0\n",
    "        \n",
    "        for date in unique_dates:\n",
    "            visit += 1\n",
    "            dir_name = str(subject_id) + \"_visit_\" + str(visit)\n",
    "            if not os.path.isdir(os.path.join(path_to_correct, dir_name)):\n",
    "                os.makedirs(os.path.join(path_to_correct, dir_name))\n",
    "                \n",
    "            for modality in modalities:\n",
    "                modality_dates = get_dates(subject_id, modality)\n",
    "                modality_dates_date = [i.split('_')[0] for i in modality_dates]\n",
    "                \n",
    "                if date in modality_dates_date:\n",
    "                    full_folder_name = get_full_folder_name(date, modality_dates)\n",
    "\n",
    "                    os.makedirs(os.path.join(path_to_correct, dir_name, modality))\n",
    "                    \n",
    "                    folder_to_move = os.path.join(path_to_adni, subject_id, modality, full_folder_name)\n",
    "                    move_to_folder = os.path.join(path_to_correct, dir_name, modality)\n",
    "                \n",
    "                    shutil.move(folder_to_move, move_to_folder)                   "
   ]
  },
  {
   "cell_type": "code",
   "execution_count": 25,
   "metadata": {},
   "outputs": [],
   "source": [
    "correct_directory_structure(path_to_adni, path_to_correct)"
   ]
  },
  {
   "cell_type": "code",
   "execution_count": null,
   "metadata": {},
   "outputs": [],
   "source": []
  }
 ],
 "metadata": {
  "kernelspec": {
   "display_name": "Python 3",
   "language": "python",
   "name": "python3"
  },
  "language_info": {
   "codemirror_mode": {
    "name": "ipython",
    "version": 3
   },
   "file_extension": ".py",
   "mimetype": "text/x-python",
   "name": "python",
   "nbconvert_exporter": "python",
   "pygments_lexer": "ipython3",
   "version": "3.6.9"
  }
 },
 "nbformat": 4,
 "nbformat_minor": 4
}
